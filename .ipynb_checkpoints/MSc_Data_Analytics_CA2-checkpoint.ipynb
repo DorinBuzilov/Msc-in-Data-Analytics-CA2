{
 "cells": [
  {
   "cell_type": "code",
   "execution_count": null,
   "id": "71a0a117",
   "metadata": {},
   "outputs": [],
   "source": [
    "# Installation of any non native supported libraries\n",
    "\n",
    "# !pip install beautifulsoup4\n",
    "# !pip install wget"
   ]
  },
  {
   "cell_type": "code",
   "execution_count": null,
   "id": "9c884174",
   "metadata": {},
   "outputs": [],
   "source": [
    "# Import necessary libraries\n",
    "\n",
    "import pandas as pd\n",
    "import requests\n",
    "from bs4 import BeautifulSoup\n",
    "import wget\n",
    "import os\n",
    "import re \n",
    "import openpyxl\n",
    "import pandas as pd\n",
    "from datetime import datetime\n",
    "import calendar"
   ]
  },
  {
   "cell_type": "code",
   "execution_count": null,
   "id": "42844be3",
   "metadata": {},
   "outputs": [],
   "source": [
    "# Your local download directory\n",
    "download_destination = '/Users/dorin/Documents/Jupyter Notebook Files/CCT - Masters/MSc_Data_Analytics_CA2/Data'"
   ]
  },
  {
   "cell_type": "markdown",
   "id": "a28c013f",
   "metadata": {},
   "source": [
    "## Download Data"
   ]
  },
  {
   "cell_type": "code",
   "execution_count": null,
   "id": "af82a678",
   "metadata": {
    "scrolled": true
   },
   "outputs": [],
   "source": [
    "URL = 'https://assets.publishing.service.gov.uk/government/uploads/system/uploads/attachment_data/file/1148775/23-cs4-_Construction_Building_Materials_-_Tables_March_2023.xlsx'\n",
    "r = requests.get(URL) \n",
    "with open(r'/Users/dorin/Documents/Jupyter Notebook Files/CCT - Masters/MSc_Data_Analytics_CA2/Data/UK Data/FIle_new.xlsx', 'wb') as f:\n",
    "    f.write(r.content)"
   ]
  },
  {
   "cell_type": "code",
   "execution_count": null,
   "id": "47d44258",
   "metadata": {
    "scrolled": true
   },
   "outputs": [],
   "source": [
    "\n",
    "\n",
    "# Define variable to load the wookbook\n",
    "wb = openpyxl.load_workbook(\"/Users/dorin/Documents/Jupyter Notebook Files/CCT - Masters/MSc_Data_Analytics_CA2/Data/file_name.xlsx\")\n",
    "sheets = wb.sheetnames\n",
    "ws = wb[sheets[3]]\n",
    "df = pd.DataFrame(ws.values)\n",
    "\n",
    "df.head(50)"
   ]
  },
  {
   "cell_type": "code",
   "execution_count": null,
   "id": "55aa2dfa",
   "metadata": {
    "scrolled": true
   },
   "outputs": [],
   "source": [
    "rows_to_delete = [0,1,2,3,4,5,7,8,12,13,19,20,24,25,32,33,41,42,47,48,58]\n",
    "\n",
    "df = df.drop(index=rows_to_delete)\n",
    "df.reset_index(drop=True, inplace=True) # Reset the index "
   ]
  },
  {
   "cell_type": "code",
   "execution_count": null,
   "id": "c94fe7be",
   "metadata": {},
   "outputs": [],
   "source": [
    "df = df.drop(df.tail(15).index)"
   ]
  },
  {
   "cell_type": "code",
   "execution_count": null,
   "id": "865b1a5d",
   "metadata": {},
   "outputs": [],
   "source": [
    "df.tail(50)"
   ]
  },
  {
   "cell_type": "code",
   "execution_count": null,
   "id": "cb8e2e87",
   "metadata": {},
   "outputs": [],
   "source": [
    "df = df.T.set_index(0).T # Assign top row as column headers"
   ]
  },
  {
   "cell_type": "code",
   "execution_count": null,
   "id": "c7f0d101",
   "metadata": {},
   "outputs": [],
   "source": [
    "df.columns.values[0] = 'Materials' # Label index column"
   ]
  },
  {
   "cell_type": "code",
   "execution_count": null,
   "id": "65ad584b",
   "metadata": {},
   "outputs": [],
   "source": [
    "df = df.drop([col for col in df.columns if not col], axis=1)"
   ]
  },
  {
   "cell_type": "code",
   "execution_count": null,
   "id": "7ef7550f",
   "metadata": {},
   "outputs": [],
   "source": [
    "df.head()"
   ]
  },
  {
   "cell_type": "code",
   "execution_count": null,
   "id": "b6410948",
   "metadata": {},
   "outputs": [],
   "source": [
    "dfx = df"
   ]
  },
  {
   "cell_type": "code",
   "execution_count": null,
   "id": "994f375e",
   "metadata": {},
   "outputs": [],
   "source": [
    "from datetime import datetime\n",
    "current_date = datetime.today()\n",
    "current_year = int(current_date.strftime('%Y'))\n",
    "current_month = int(current_date.strftime('%m'))\n",
    "print(current_month)"
   ]
  },
  {
   "cell_type": "code",
   "execution_count": null,
   "id": "06b684a8",
   "metadata": {},
   "outputs": [],
   "source": [
    "import calendar\n",
    "d = dict(enumerate(calendar.month_name))\n",
    "print(d)"
   ]
  },
  {
   "cell_type": "code",
   "execution_count": null,
   "id": "6d992432",
   "metadata": {},
   "outputs": [],
   "source": [
    "i = 3\n",
    "calendar.month_name[i]"
   ]
  },
  {
   "cell_type": "code",
   "execution_count": null,
   "id": "228a99d3",
   "metadata": {
    "scrolled": false
   },
   "outputs": [],
   "source": [
    "# format dates correctly\n",
    "\n",
    "col_list = [col for col in dfx.columns[::-1]]\n",
    "new_col = []\n",
    "\n",
    "for c in col_list:\n",
    "    i = i - 1\n",
    "    if i == 0:\n",
    "        current_year = current_year - 1\n",
    "        current_month = 12\n",
    "        continue\n",
    "        \n",
    "    c = str(current_year) + ' ' + calendar.month_name[i]\n",
    "    print(c)\n",
    "    new_col.append(c)\n",
    "    \n",
    "print(new_col)"
   ]
  },
  {
   "cell_type": "code",
   "execution_count": null,
   "id": "1d1eb9c2",
   "metadata": {},
   "outputs": [],
   "source": [
    "new_col.append('Materials') \n",
    "new_col.reverse()\n",
    "print(new_col)"
   ]
  },
  {
   "cell_type": "code",
   "execution_count": null,
   "id": "935b6de8",
   "metadata": {},
   "outputs": [],
   "source": [
    "dfx.columns = new_col"
   ]
  },
  {
   "cell_type": "code",
   "execution_count": null,
   "id": "70a42482",
   "metadata": {
    "scrolled": true
   },
   "outputs": [],
   "source": [
    "dfx"
   ]
  },
  {
   "cell_type": "code",
   "execution_count": null,
   "id": "47f76241",
   "metadata": {
    "scrolled": true
   },
   "outputs": [],
   "source": [
    "mats = dfx['Materials']\n",
    "dfx = dfx[dfx.columns[:0:-1]]\n",
    "result = pd.concat([mats, dfx], axis=1)\n",
    "result"
   ]
  },
  {
   "cell_type": "code",
   "execution_count": null,
   "id": "b0005d1f",
   "metadata": {
    "scrolled": true
   },
   "outputs": [],
   "source": [
    "URL = 'https://www.data.gov.uk/dataset/75ee36ed-21f7-4d7b-9e7c-f5bf4546145d/monthly-statistics-of-building-materials-and-components'\n",
    "r = requests.get(URL) \n",
    "soup = BeautifulSoup(r.content, \"html.parser\")\n",
    "with open(r'/Users/dorin/Documents/Jupyter Notebook Files/CCT - Masters/MSc_Data_Analytics_CA2/Data/example_data.xlsx', 'wb') as f:\n",
    "    f.write(r.content)\n",
    "\n",
    "filenames = ['March']   \n",
    "year = ['2023']\n",
    "list_of_urls_found = []\n",
    "for a in soup.select(','.join('a:contains(\"{}\")'.format(i) for i in filenames)):\n",
    "        list_of_urls_found.append(a['href'])\n",
    "\n",
    "for l in list_of_urls_found:\n",
    "    if re.findall('March.*2018'.lower(), l.lower()):\n",
    "        print(l)"
   ]
  },
  {
   "cell_type": "code",
   "execution_count": null,
   "id": "310f2862",
   "metadata": {},
   "outputs": [],
   "source": [
    "# Your local download directory\n",
    "download_destination = '/Users/dorin/Documents/Jupyter Notebook Files/CCT - Masters/MSc_Data_Analytics_CA2/Data'"
   ]
  },
  {
   "cell_type": "code",
   "execution_count": null,
   "id": "47b9f69d",
   "metadata": {},
   "outputs": [],
   "source": [
    "# Creating Empty DataFrame for storing compiled data\n",
    "UK_Data_Masterfile = pd.DataFrame()\n",
    "UK_Data_Masterfile.to_csv(download_destination + '/UK Data/UK_Building_Materials_CostIndex_Compiled.csv')"
   ]
  },
  {
   "cell_type": "code",
   "execution_count": null,
   "id": "6b145dba",
   "metadata": {},
   "outputs": [],
   "source": [
    "# Webpage\n",
    "URL = 'https://www.data.gov.uk/dataset/75ee36ed-21f7-4d7b-9e7c-f5bf4546145d/monthly-statistics-of-building-materials-and-components'\n",
    "r = requests.get(URL) \n",
    "soup = BeautifulSoup(r.content, \"html.parser\")\n",
    "list_of_urls_found = []\n",
    "\n",
    "# Current Date\n",
    "current_date = datetime.today()\n",
    "current_year = int(current_date.strftime('%Y'))\n",
    "current_month = int(current_date.strftime('%m'))\n",
    "current_month = current_month - 2 # Account for delay uploading data at beginning of month by data.gov.uk\n",
    "start_year = current_year\n",
    "\n",
    "# Naming Convension\n",
    "file_name = ''\n",
    "\n",
    "def Data_download():\n",
    "    global file_name\n",
    "    file_name = '{}/UK Data/{} {} UK Monthly Statistics of Building Materials and Components.xlsx'.format(download_destination, current_year,calendar.month_name[current_month])\n",
    "    list_of_urls_found = []\n",
    "    for a in soup.select(','.join('a:contains(\"{}\")'.format(i) for i in calendar.month_name[current_month])):\n",
    "            list_of_urls_found.append(a['href'])\n",
    "    for l in list_of_urls_found:\n",
    "        if re.findall('{}.*{}'.format(calendar.month_name[current_month], current_year).lower(), l.lower()):\n",
    "            download_link = l\n",
    "            print(download_link)\n",
    "    \n",
    "    # Download link\n",
    "    r = requests.get(download_link) \n",
    "    with open(file_name, 'wb') as f:\n",
    "        f.write(r.content)\n",
    "        \n",
    "    Format_and_Compile()\n",
    "\n",
    "    \n",
    "    \n",
    "def Format_and_Compile():\n",
    "    # Define variable to load the wookbook\n",
    "    wb = openpyxl.load_workbook(file_name)\n",
    "    sheets = wb.sheetnames\n",
    "    ws = wb[sheets[3]]\n",
    "    df = pd.DataFrame(ws.values)\n",
    "    # Delete filler rows\n",
    "    rows_to_delete = [0,1,2,3,4,5,7,8,12,13,19,20,24,25,32,33,41,42,47,48,58]\n",
    "    df = df.drop(index=rows_to_delete)\n",
    "    df.reset_index(drop=True, inplace=True) # Reset the index \n",
    "    df = df.drop(df.tail(15).index)\n",
    "    # Set Column Headers\n",
    "    df = df.T.set_index(0).T # Assign top row as column headers\n",
    "    df.columns.values[0] = 'Materials' # Label index column\n",
    "    df = df.drop([col for col in df.columns if not col], axis=1) # Delete Filler Columns\n",
    "\n",
    "    # Change Header Format to YYYY-Month\n",
    "    global current_month\n",
    "    global current_year\n",
    "    curr_month = current_month\n",
    "    curr_year = current_year\n",
    "    col_list = [col for col in df.columns[::-1]]\n",
    "    new_col = []\n",
    "    for c in col_list:\n",
    "        curr_month = curr_month - 1\n",
    "        if curr_month == 0:\n",
    "            curr_year = curr_year - 1\n",
    "            curr_month = 12\n",
    "            continue    \n",
    "        c = str(curr_year) + ' ' + calendar.month_name[curr_month]\n",
    "        new_col.append(c)    \n",
    "    new_col.append('Materials') \n",
    "    new_col.reverse()\n",
    "    df.columns = new_col\n",
    "    \n",
    "    Concat_data(df)\n",
    "    \n",
    "def Concat_data(dataframe):\n",
    "    if current_year == start_year:\n",
    "        # Update Masterfile using concat to append new data\n",
    "        UK_Data_Masterfile = pd.read_csv(download_destination + '/UK Data/UK_Building_Materials_CostIndex_Compiled.csv', index_col=0)\n",
    "        Masterfile = pd.concat([UK_Data_Masterfile, dataframe])\n",
    "        Masterfile.to_csv(download_destination + '/UK Data/UK_Building_Materials_CostIndex_Compiled.csv')\n",
    "    else:\n",
    "        # Update Masterfile using concat to append new data\n",
    "        UK_Data_Masterfile = pd.read_csv(download_destination + '/UK Data/UK_Building_Materials_CostIndex_Compiled.csv', index_col=0)\n",
    "        Masterfile = pd.concat([UK_Data_Masterfile, dataframe[:, 1:]], axis=1, join='inner')\n",
    "        Masterfile.to_csv(download_destination + '/UK Data/UK_Building_Materials_CostIndex_Compiled.csv')\n",
    "\n",
    "while current_year >= 2021:\n",
    "    if current_year == start_year:\n",
    "        Data_download()\n",
    "        current_year = current_year - 1\n",
    "    else:\n",
    "        current_year = current_year - 1\n",
    "\n",
    "    \n",
    "    \n",
    "print('{} {}'.format(current_year, calendar.month_name[current_month]))"
   ]
  },
  {
   "cell_type": "code",
   "execution_count": null,
   "id": "d486fd07",
   "metadata": {},
   "outputs": [],
   "source": [
    "df.iloc[:, 1:].head()"
   ]
  },
  {
   "cell_type": "code",
   "execution_count": null,
   "id": "a468a54a",
   "metadata": {},
   "outputs": [],
   "source": [
    "current_date = datetime.today()\n",
    "current_year = int(current_date.strftime('%Y'))\n",
    "current_year"
   ]
  },
  {
   "cell_type": "code",
   "execution_count": null,
   "id": "d97a6563",
   "metadata": {},
   "outputs": [],
   "source": [
    "# Define variable to load the wookbook\n",
    "wb = openpyxl.load_workbook(file_name)\n",
    "sheets = wb.sheetnames\n",
    "ws = wb[sheets[3]]\n",
    "df = pd.DataFrame(ws.values)\n",
    "# Delete filler rows\n",
    "rows_to_delete = [0,1,2,3,4,5,7,8,12,13,19,20,24,25,32,33,41,42,47,48,58]\n",
    "df = df.drop(index=rows_to_delete)\n",
    "df.reset_index(drop=True, inplace=True) # Reset the index \n",
    "df = df.drop(df.tail(15).index)\n",
    "# Set Column Headers\n",
    "df = df.T.set_index(0).T # Assign top row as column headers\n",
    "df.columns.values[0] = 'Materials' # Label index column\n",
    "df = df.drop([col for col in df.columns if not col], axis=1) # Delete Filler Columns\n",
    "\n",
    "# Change Header Format to YYYY-Month\n",
    "col_list = [col for col in df.columns[::-1]]\n",
    "new_col = []\n",
    "for c in col_list:\n",
    "    current_month = current_month - 1\n",
    "    if current_month == 0:\n",
    "        current_year = current_year - 1\n",
    "        current_month = 12\n",
    "        continue    \n",
    "    c = str(current_year) + ' ' + calendar.month_name[current_month]\n",
    "    new_col.append(c)    \n",
    "new_col.append('Materials') \n",
    "new_col.reverse()\n",
    "df.columns = new_col\n",
    "df.head()\n",
    "\n"
   ]
  },
  {
   "cell_type": "code",
   "execution_count": null,
   "id": "39df5ffe",
   "metadata": {},
   "outputs": [],
   "source": [
    "# Update Masterfile using concat to append new data\n",
    "UK_Data_Masterfile = pd.read_csv(download_destination + '/UK Data/UK_Building_Materials_CostIndex_Compiled.csv', index_col=0)\n",
    "Masterfile = pd.concat([UK_Data_Masterfile, df[:, 1:]], axis=1, join='inner')\n",
    "Masterfile.to_csv(download_destination + '/UK Data/UK_Building_Materials_CostIndex_Compiled.csv')"
   ]
  },
  {
   "cell_type": "code",
   "execution_count": null,
   "id": "27e8b388",
   "metadata": {},
   "outputs": [],
   "source": []
  },
  {
   "cell_type": "code",
   "execution_count": null,
   "id": "4cae11b1",
   "metadata": {},
   "outputs": [],
   "source": []
  },
  {
   "cell_type": "code",
   "execution_count": null,
   "id": "cebe2f98",
   "metadata": {},
   "outputs": [],
   "source": []
  },
  {
   "cell_type": "code",
   "execution_count": null,
   "id": "53f69978",
   "metadata": {},
   "outputs": [],
   "source": []
  },
  {
   "cell_type": "code",
   "execution_count": null,
   "id": "73058dfc",
   "metadata": {},
   "outputs": [],
   "source": []
  },
  {
   "cell_type": "code",
   "execution_count": null,
   "id": "2a2d68c0",
   "metadata": {},
   "outputs": [],
   "source": []
  },
  {
   "cell_type": "code",
   "execution_count": null,
   "id": "57d2fd2b",
   "metadata": {},
   "outputs": [],
   "source": []
  }
 ],
 "metadata": {
  "kernelspec": {
   "display_name": "Python 3 (ipykernel)",
   "language": "python",
   "name": "python3"
  },
  "language_info": {
   "codemirror_mode": {
    "name": "ipython",
    "version": 3
   },
   "file_extension": ".py",
   "mimetype": "text/x-python",
   "name": "python",
   "nbconvert_exporter": "python",
   "pygments_lexer": "ipython3",
   "version": "3.9.13"
  }
 },
 "nbformat": 4,
 "nbformat_minor": 5
}
