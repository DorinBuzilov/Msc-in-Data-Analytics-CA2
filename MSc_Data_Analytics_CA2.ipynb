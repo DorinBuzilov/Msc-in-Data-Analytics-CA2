{
 "cells": [
  {
   "cell_type": "code",
   "execution_count": 1,
   "id": "71a0a117",
   "metadata": {},
   "outputs": [],
   "source": [
    "# Installation of any non native supported libraries\n",
    "\n",
    "# !pip install beautifulsoup4\n",
    "# !pip install wget"
   ]
  },
  {
   "cell_type": "code",
   "execution_count": 1,
   "id": "9c884174",
   "metadata": {},
   "outputs": [],
   "source": [
    "# Import necessary libraries\n",
    "\n",
    "import pandas as pd\n",
    "import requests\n",
    "from bs4 import BeautifulSoup\n",
    "import wget\n",
    "import os\n",
    "import re \n",
    "import openpyxl\n",
    "import pandas as pd\n",
    "from datetime import datetime\n",
    "import calendar"
   ]
  },
  {
   "cell_type": "code",
   "execution_count": 177,
   "id": "42844be3",
   "metadata": {},
   "outputs": [],
   "source": [
    "# Your local download directory\n",
    "download_destination = '/Users/dorin/Documents/Jupyter Notebook Files/CCT - Masters/MSc_Data_Analytics_CA2/Data'"
   ]
  },
  {
   "cell_type": "markdown",
   "id": "a28c013f",
   "metadata": {},
   "source": [
    "## Download Data"
   ]
  },
  {
   "cell_type": "code",
   "execution_count": 178,
   "id": "1e50ed9d",
   "metadata": {},
   "outputs": [],
   "source": [
    "# Your local download directory\n",
    "download_destination = '/Users/dorin/Documents/Jupyter Notebook Files/CCT - Masters/MSc_Data_Analytics_CA2/Data'"
   ]
  },
  {
   "cell_type": "markdown",
   "id": "6bcb12bd",
   "metadata": {},
   "source": [
    "### UK Monthly Statistics of Building Materials and Components"
   ]
  },
  {
   "cell_type": "code",
   "execution_count": 179,
   "id": "2dba4498",
   "metadata": {
    "scrolled": false
   },
   "outputs": [
    {
     "name": "stdout",
     "output_type": "stream",
     "text": [
      "2023 March\n",
      "https://assets.publishing.service.gov.uk/government/uploads/system/uploads/attachment_data/file/1148775/23-cs4-_Construction_Building_Materials_-_Tables_March_2023.xlsx\n",
      "2022 March\n",
      "https://assets.publishing.service.gov.uk/government/uploads/system/uploads/attachment_data/file/1065392/22-cs4_-_Construction_Building_Materials_-_Tables_March_2022.xlsx\n",
      "2021 March\n",
      "https://assets.publishing.service.gov.uk/government/uploads/system/uploads/attachment_data/file/976157/21-cs4_-_Construction_Building_Materials_-_Tables_March_2021.xlsm\n",
      "2020 March\n",
      "https://assets.publishing.service.gov.uk/government/uploads/system/uploads/attachment_data/file/876765/20-cs4_-_Construction_Building_Materials_-_Tables_March_2020.xlsm\n",
      "2019 March\n",
      "https://assets.publishing.service.gov.uk/government/uploads/system/uploads/attachment_data/file/791320/19-cs4_-_Construction_Building_Materials_-_Excel_Tables_March_2019.xlsm\n",
      "2018 March\n",
      "https://assets.publishing.service.gov.uk/government/uploads/system/uploads/attachment_data/file/698425/18-cs4_-_Construction_Building_Materials_-_Excel_Tables_March_2018.xlsm\n",
      "\n",
      "100% |■■■■■■■■■■■■■■■■■■■■■■■■■■■|\n",
      "Total files downloaded: 6\n"
     ]
    }
   ],
   "source": [
    "Downloaded_data = []\n",
    "\n",
    "# Current Date\n",
    "current_date = datetime.today()\n",
    "current_year, current_month = int(current_date.strftime('%Y')), int(current_date.strftime('%m'))\n",
    "current_month = current_month - 2 # Account for delay uploading data by data.gov.uk\n",
    "start_year = current_year\n",
    "\n",
    "\n",
    "while current_year >= 2018:\n",
    "    # Webpage\n",
    "    URL = 'https://www.data.gov.uk/dataset/75ee36ed-21f7-4d7b-9e7c-f5bf4546145d/monthly-statistics-of-building-materials-and-components'\n",
    "    r = requests.get(URL) \n",
    "    soup = BeautifulSoup(r.content, \"html.parser\")\n",
    "    file_name = '{}/UK Data/{} {} UK Monthly Statistics of Building Materials and Components.xlsx'.format(download_destination, current_year,calendar.month_name[current_month])\n",
    "    print('{} {}'.format(current_year, calendar.month_name[current_month]))\n",
    "    \n",
    "    for a in soup.find_all(\"a\", href=lambda href: href.lower() and str(current_year).lower() in href and str(calendar.month_name[current_month]).lower() in href.lower()):\n",
    "        l = a['href']\n",
    "        \n",
    "    if not l.endswith('.xlsx'):\n",
    "        r = requests.get(l) \n",
    "        soup = BeautifulSoup(r.content, \"html.parser\")\n",
    "        for a in soup.find_all(\"a\", href=lambda href: href.lower() and str(current_year).lower() in href and str(calendar.month_name[current_month]).lower() in href.lower() and '.xlsm' in href.lower(), limit=1):\n",
    "            l = a['href']\n",
    "            \n",
    "    # Download link\n",
    "    print(l)\n",
    "    r = requests.get(l) \n",
    "    with open(file_name, 'wb') as f:\n",
    "        f.write(r.content)     \n",
    "    Downloaded_data.append(file_name)\n",
    "    \n",
    "    current_year = current_year - 1\n",
    "    \n",
    "print('')\n",
    "print('100% |■■■■■■■■■■■■■■■■■■■■■■■■■■■|')\n",
    "print('Total files downloaded: ' + str(len(Downloaded_data)))"
   ]
  },
  {
   "cell_type": "code",
   "execution_count": 653,
   "id": "d1f87d0a",
   "metadata": {},
   "outputs": [],
   "source": [
    "# Creating Empty DataFrame for storing compiled data\n",
    "UK_Data_Masterfile = pd.DataFrame()\n",
    "UK_Data_Masterfile.to_csv(download_destination + '/UK Data/UK_Building_Materials_CostIndex_Compiled.csv')"
   ]
  },
  {
   "cell_type": "code",
   "execution_count": 654,
   "id": "035c157e",
   "metadata": {},
   "outputs": [
    {
     "name": "stdout",
     "output_type": "stream",
     "text": [
      "2023 March\n",
      "2022 March\n",
      "2021 March\n",
      "2020 March\n",
      "2019 March\n",
      "2018 March\n"
     ]
    }
   ],
   "source": [
    "current_year = 2023\n",
    "for wb in Downloaded_data:\n",
    "    print('{} {}'.format(current_year, calendar.month_name[current_month]))\n",
    "\n",
    "    wb = openpyxl.load_workbook(wb)\n",
    "    sheets = wb.sheetnames\n",
    "    ws = wb[sheets[3]]\n",
    "    df = pd.DataFrame(ws.values)\n",
    "\n",
    "    df = df.T.set_index(6).T \n",
    "    df.columns.values[0] = 'Materials'\n",
    "    df = df.drop([col for col in df.columns.values if not col], axis=1) # Delete Filler Columns\n",
    "    mat = df.loc[df.iloc[:,0].values != None]\n",
    "    mat = mat['Materials'].values\n",
    "    mat = mat[4:49]\n",
    "    mat = [w for w in mat if not w.isupper() or w.isdigit()]\n",
    "    df = df[df['Materials'].isin(mat)]\n",
    "    df.reset_index(drop=True, inplace=True) # Reset the index \n",
    "    df.columns.name = 'Index'\n",
    "    if current_year <= 2020:\n",
    "        rows_to_delete = [0,1]\n",
    "        df = df.drop(index=rows_to_delete)\n",
    "        df1 = df.copy()\n",
    "        df.iloc[0,:],df.iloc[1,:]= df1.iloc[1,:],df1.iloc[0,:]\n",
    "        df.reset_index(drop=True, inplace=True) # Reset the index\n",
    "\n",
    "    curr_month = current_month\n",
    "    curr_year = current_year\n",
    "    col_list = [col for col in df.columns[::-1]]\n",
    "    new_col = []\n",
    "    for c in col_list[:-1]:\n",
    "        curr_month = curr_month - 1\n",
    "        if curr_month == 0:\n",
    "            curr_year = curr_year - 1\n",
    "            curr_month = 12  \n",
    "        c = str(curr_year) + ' ' + calendar.month_name[curr_month]\n",
    "        new_col.append(c)    \n",
    "    new_col.append('Materials') \n",
    "    new_col.reverse()\n",
    "    df.columns = new_col\n",
    "    \n",
    "    if current_year == 2023:\n",
    "        UK_Data_Masterfile = pd.read_csv(download_destination + '/UK Data/UK_Building_Materials_CostIndex_Compiled.csv', index_col=0)\n",
    "        new_df = pd.merge(df, UK_Data_Masterfile, left_index=True, right_index=True, how='outer')\n",
    "        new_df.to_csv(download_destination + '/UK Data/UK_Building_Materials_CostIndex_Compiled.csv')\n",
    "    else:\n",
    "        # Update Masterfile using concat to append new data\n",
    "        UK_Data_Masterfile = pd.read_csv(download_destination + '/UK Data/UK_Building_Materials_CostIndex_Compiled.csv', index_col=0)\n",
    "        new_df = pd.merge(df, UK_Data_Masterfile, left_index=True, right_index=True, how='inner', suffixes=('', '_y'))\n",
    "        new_df = new_df.drop(new_df.filter(regex='_y$').columns, axis=1)\n",
    "        new_df.to_csv(download_destination + '/UK Data/UK_Building_Materials_CostIndex_Compiled.csv')\n",
    "    current_year = current_year - 1"
   ]
  },
  {
   "cell_type": "code",
   "execution_count": null,
   "id": "80524449",
   "metadata": {},
   "outputs": [],
   "source": []
  },
  {
   "cell_type": "code",
   "execution_count": null,
   "id": "ef30205b",
   "metadata": {},
   "outputs": [],
   "source": []
  },
  {
   "cell_type": "code",
   "execution_count": null,
   "id": "2126419b",
   "metadata": {},
   "outputs": [],
   "source": []
  },
  {
   "cell_type": "code",
   "execution_count": null,
   "id": "a60cec3a",
   "metadata": {},
   "outputs": [],
   "source": []
  },
  {
   "cell_type": "code",
   "execution_count": null,
   "id": "e8042b26",
   "metadata": {},
   "outputs": [],
   "source": []
  },
  {
   "cell_type": "code",
   "execution_count": null,
   "id": "3683b282",
   "metadata": {},
   "outputs": [],
   "source": []
  },
  {
   "cell_type": "code",
   "execution_count": null,
   "id": "75a9b073",
   "metadata": {},
   "outputs": [],
   "source": []
  },
  {
   "cell_type": "code",
   "execution_count": null,
   "id": "35a25f23",
   "metadata": {},
   "outputs": [],
   "source": []
  },
  {
   "cell_type": "code",
   "execution_count": null,
   "id": "b9e0a36a",
   "metadata": {
    "scrolled": true
   },
   "outputs": [],
   "source": []
  },
  {
   "cell_type": "code",
   "execution_count": null,
   "id": "69e2ab99",
   "metadata": {},
   "outputs": [],
   "source": []
  },
  {
   "cell_type": "code",
   "execution_count": null,
   "id": "d38fdae1",
   "metadata": {},
   "outputs": [],
   "source": []
  },
  {
   "cell_type": "code",
   "execution_count": null,
   "id": "c518959c",
   "metadata": {},
   "outputs": [],
   "source": []
  },
  {
   "cell_type": "code",
   "execution_count": null,
   "id": "98e9d5d4",
   "metadata": {},
   "outputs": [],
   "source": []
  },
  {
   "cell_type": "code",
   "execution_count": 194,
   "id": "1fcf409d",
   "metadata": {},
   "outputs": [
    {
     "name": "stdout",
     "output_type": "stream",
     "text": [
      "https://www.gov.uk/government/statistics/building-materials-and-components-statistics-march-2021\n"
     ]
    }
   ],
   "source": [
    "current_month = 3\n",
    "current_year = 2021\n",
    "# Webpage\n",
    "URL = 'https://www.data.gov.uk/dataset/75ee36ed-21f7-4d7b-9e7c-f5bf4546145d/monthly-statistics-of-building-materials-and-components'\n",
    "r = requests.get(URL) \n",
    "soup = BeautifulSoup(r.content, \"html.parser\")\n",
    "list_of_urls_found = []\n",
    "\n",
    "\n",
    "list_of_urls_found = []\n",
    "for a in soup.select(','.join('a:contains(\"{}\")'.format(i) for i in calendar.month_name[current_month])):\n",
    "        list_of_urls_found.append(a['href'])\n",
    "for l in list_of_urls_found:\n",
    "    if re.findall('{}.*{}'.format(calendar.month_name[current_month], current_year).lower(), l.lower()):\n",
    "        download_link = l\n",
    "        print(download_link)"
   ]
  },
  {
   "cell_type": "code",
   "execution_count": null,
   "id": "8a78b044",
   "metadata": {},
   "outputs": [],
   "source": []
  },
  {
   "cell_type": "code",
   "execution_count": null,
   "id": "7018aa1b",
   "metadata": {},
   "outputs": [],
   "source": []
  },
  {
   "cell_type": "code",
   "execution_count": null,
   "id": "b8135b6c",
   "metadata": {},
   "outputs": [],
   "source": []
  },
  {
   "cell_type": "code",
   "execution_count": null,
   "id": "6eb5e3a9",
   "metadata": {},
   "outputs": [],
   "source": []
  },
  {
   "cell_type": "code",
   "execution_count": null,
   "id": "7e77c024",
   "metadata": {},
   "outputs": [],
   "source": []
  },
  {
   "cell_type": "code",
   "execution_count": null,
   "id": "0c6cf3e2",
   "metadata": {},
   "outputs": [],
   "source": []
  },
  {
   "cell_type": "code",
   "execution_count": null,
   "id": "73058dfc",
   "metadata": {},
   "outputs": [],
   "source": []
  },
  {
   "cell_type": "code",
   "execution_count": null,
   "id": "2a2d68c0",
   "metadata": {},
   "outputs": [],
   "source": []
  },
  {
   "cell_type": "code",
   "execution_count": null,
   "id": "57d2fd2b",
   "metadata": {},
   "outputs": [],
   "source": []
  }
 ],
 "metadata": {
  "kernelspec": {
   "display_name": "Python 3 (ipykernel)",
   "language": "python",
   "name": "python3"
  },
  "language_info": {
   "codemirror_mode": {
    "name": "ipython",
    "version": 3
   },
   "file_extension": ".py",
   "mimetype": "text/x-python",
   "name": "python",
   "nbconvert_exporter": "python",
   "pygments_lexer": "ipython3",
   "version": "3.9.13"
  }
 },
 "nbformat": 4,
 "nbformat_minor": 5
}
