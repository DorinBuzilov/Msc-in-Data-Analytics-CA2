{
 "cells": [
  {
   "cell_type": "code",
   "execution_count": 1,
   "id": "71a0a117",
   "metadata": {},
   "outputs": [],
   "source": [
    "# Installation of any non native supported libraries\n",
    "\n",
    "# !pip install beautifulsoup4\n",
    "# !pip install wget"
   ]
  },
  {
   "cell_type": "code",
   "execution_count": 2,
   "id": "9c884174",
   "metadata": {},
   "outputs": [],
   "source": [
    "# Import necessary libraries\n",
    "\n",
    "import pandas as pd\n",
    "import requests\n",
    "from bs4 import BeautifulSoup\n",
    "import wget\n",
    "import os\n",
    "import re \n",
    "import openpyxl\n",
    "import pandas as pd\n",
    "from datetime import datetime\n",
    "import calendar\n",
    "from pyjstat import pyjstat"
   ]
  },
  {
   "cell_type": "code",
   "execution_count": 3,
   "id": "42844be3",
   "metadata": {},
   "outputs": [],
   "source": [
    "# Your local download directory\n",
    "download_destination = '/Users/dorin/Documents/Jupyter Notebook Files/CCT - Masters/MSc_Data_Analytics_CA2/Data'"
   ]
  },
  {
   "cell_type": "markdown",
   "id": "a28c013f",
   "metadata": {},
   "source": [
    "## Download Data"
   ]
  },
  {
   "cell_type": "code",
   "execution_count": 4,
   "id": "e8bf1073",
   "metadata": {},
   "outputs": [],
   "source": [
    "# Your local download directory\n",
    "download_destination = '/Users/dorin/Documents/Jupyter Notebook Files/CCT - Masters/MSc_Data_Analytics_CA2/Data'"
   ]
  },
  {
   "cell_type": "markdown",
   "id": "954fb4c4",
   "metadata": {},
   "source": [
    "### IE Monthly Statistics of Building Materials and Components"
   ]
  },
  {
   "cell_type": "code",
   "execution_count": 148,
   "id": "045b815a",
   "metadata": {},
   "outputs": [],
   "source": [
    "api = 'https://ws.cso.ie/public/api.restful/PxStat.Data.Cube_API.ReadDataset/WPM28/JSON-stat/2.0/en/'\n",
    "\n",
    "# read from json-stat\n",
    "dataset = pyjstat.Dataset.read(api)\n",
    "\n",
    "# write to dataframe\n",
    "df = dataset.write('dataframe')\n",
    "df = df[df['Statistic'] == 'Wholesale Price Index (Excl VAT) for Building and Construction Materials']\n",
    "ie_df = df.drop(['Statistic'], axis=1)\n",
    "ie_df = ie_df.groupby(['Type of Material','Month'], sort=False)['value'].mean().unstack()\n",
    "ie_df.to_csv(download_destination + '/IE Data/IE_Building_Materials_CostIndex_Compiled.csv')"
   ]
  },
  {
   "cell_type": "markdown",
   "id": "14e3a325",
   "metadata": {},
   "source": [
    "### UK Monthly Statistics of Building Materials and Components"
   ]
  },
  {
   "cell_type": "code",
   "execution_count": 179,
   "id": "f9e6e0b4",
   "metadata": {
    "scrolled": false
   },
   "outputs": [
    {
     "name": "stdout",
     "output_type": "stream",
     "text": [
      "2023 March\n",
      "https://assets.publishing.service.gov.uk/government/uploads/system/uploads/attachment_data/file/1148775/23-cs4-_Construction_Building_Materials_-_Tables_March_2023.xlsx\n",
      "2022 March\n",
      "https://assets.publishing.service.gov.uk/government/uploads/system/uploads/attachment_data/file/1065392/22-cs4_-_Construction_Building_Materials_-_Tables_March_2022.xlsx\n",
      "2021 March\n",
      "https://assets.publishing.service.gov.uk/government/uploads/system/uploads/attachment_data/file/976157/21-cs4_-_Construction_Building_Materials_-_Tables_March_2021.xlsm\n",
      "2020 March\n",
      "https://assets.publishing.service.gov.uk/government/uploads/system/uploads/attachment_data/file/876765/20-cs4_-_Construction_Building_Materials_-_Tables_March_2020.xlsm\n",
      "2019 March\n",
      "https://assets.publishing.service.gov.uk/government/uploads/system/uploads/attachment_data/file/791320/19-cs4_-_Construction_Building_Materials_-_Excel_Tables_March_2019.xlsm\n",
      "2018 March\n",
      "https://assets.publishing.service.gov.uk/government/uploads/system/uploads/attachment_data/file/698425/18-cs4_-_Construction_Building_Materials_-_Excel_Tables_March_2018.xlsm\n",
      "\n",
      "100% |■■■■■■■■■■■■■■■■■■■■■■■■■■■|\n",
      "Total files downloaded: 6\n"
     ]
    }
   ],
   "source": [
    "Downloaded_data = []\n",
    "\n",
    "# Current Date - store record of today's month and year\n",
    "current_date = datetime.today() \n",
    "current_year, current_month = int(current_date.strftime('%Y')), int(current_date.strftime('%m'))\n",
    "current_month = current_month - 2 # Account for delay uploading data by data.gov.uk\n",
    "\n",
    "\n",
    "while current_year >= 2018:\n",
    "    # Webpage\n",
    "    URL = 'https://www.data.gov.uk/dataset/75ee36ed-21f7-4d7b-9e7c-f5bf4546145d/monthly-statistics-of-building-materials-and-components'\n",
    "    r = requests.get(URL) # get the link\n",
    "    soup = BeautifulSoup(r.content, \"html.parser\")\n",
    "    file_name = '{}/UK Data/{} {} UK Monthly Statistics of Building Materials and Components.xlsx'.format(download_destination, current_year,calendar.month_name[current_month])\n",
    "    print('{} {}'.format(current_year, calendar.month_name[current_month]))\n",
    "    \n",
    "    for a in soup.find_all(\"a\", href=lambda href: href.lower() and str(current_year).lower() in href and str(calendar.month_name[current_month]).lower() in href.lower()):\n",
    "        l = a['href']\n",
    "        \n",
    "    if not l.endswith('.xlsx'): # if link isnt an excel spreadsheet then continue search with new link = l\n",
    "        r = requests.get(l) \n",
    "        soup = BeautifulSoup(r.content, \"html.parser\")\n",
    "        for a in soup.find_all(\"a\", href=lambda href: href.lower() and str(current_year).lower() in href and str(calendar.month_name[current_month]).lower() in href.lower() and '.xlsm' in href.lower(), limit=1):\n",
    "            l = a['href']\n",
    "            \n",
    "    # Download link\n",
    "    print(l)\n",
    "    r = requests.get(l) \n",
    "    with open(file_name, 'wb') as f:\n",
    "        f.write(r.content)     # Save files to download destination\n",
    "    Downloaded_data.append(file_name)\n",
    "    \n",
    "    current_year = current_year - 1 # loop to next year\n",
    "    \n",
    "print('')\n",
    "print('100% |■■■■■■■■■■■■■■■■■■■■■■■■■■■|')\n",
    "print('Total files downloaded: ' + str(len(Downloaded_data)))"
   ]
  },
  {
   "cell_type": "code",
   "execution_count": 653,
   "id": "daf10e9d",
   "metadata": {},
   "outputs": [],
   "source": [
    "# Creating Empty DataFrame for storing compiled data\n",
    "UK_Data_Masterfile = pd.DataFrame()\n",
    "UK_Data_Masterfile.to_csv(download_destination + '/UK Data/UK_Building_Materials_CostIndex_Compiled.csv')"
   ]
  },
  {
   "cell_type": "code",
   "execution_count": 654,
   "id": "e6eb8394",
   "metadata": {},
   "outputs": [
    {
     "name": "stdout",
     "output_type": "stream",
     "text": [
      "2023 March\n",
      "2022 March\n",
      "2021 March\n",
      "2020 March\n",
      "2019 March\n",
      "2018 March\n"
     ]
    }
   ],
   "source": [
    "current_year = 2023\n",
    "for wb in Downloaded_data:\n",
    "    print('{} {}'.format(current_year, calendar.month_name[current_month]))\n",
    "\n",
    "    wb = openpyxl.load_workbook(wb) # open spreadsheet\n",
    "    sheets = wb.sheetnames \n",
    "    ws = wb[sheets[3]] # third excel sheet has monthly data\n",
    "    df = pd.DataFrame(ws.values) # pandas read information as dataframe\n",
    "\n",
    "    # Set the sixth row as index - useful later for keeping months as column labels and dropping null columns\n",
    "    df = df.T.set_index(6).T \n",
    "    df.columns.values[0] = 'Materials' # rename first column\n",
    "    df = df.drop([col for col in df.columns.values if not col], axis=1) # Delete Null Columns\n",
    "    mat = df.loc[df.iloc[:,0].values != None] # Return all the rows which dont have null values\n",
    "    mat = mat['Materials'].values\n",
    "    mat = mat[4:49] # Drop extra headers from top and bottom of excel spreadsheet\n",
    "    mat = [w for w in mat if not w.isupper() or w.isdigit()] # Remaining headers are in uppercase so we can easily drop them\n",
    "    df = df[df['Materials'].isin(mat)] # return dataframe filtered with no headers or null values\n",
    "    df.reset_index(drop=True, inplace=True) # Reset the index \n",
    "    df.columns.name = 'Index' # rename index column's name - not necessary but easy to understand when looking at df\n",
    "    if current_year <= 2020: # Files older than 2021 had a different format, need to account for extra filler rows\n",
    "        rows_to_delete = [0,1]\n",
    "        df = df.drop(index=rows_to_delete)\n",
    "        df1 = df.copy()\n",
    "        df.iloc[0,:],df.iloc[1,:]= df1.iloc[1,:],df1.iloc[0,:]\n",
    "        df.reset_index(drop=True, inplace=True) # Reset the index\n",
    "\n",
    "    # Take all column headers and format them correctly to : YYYY-MM\n",
    "    curr_month = current_month\n",
    "    curr_year = current_year\n",
    "    col_list = [col for col in df.columns[::-1]]\n",
    "    new_col = []\n",
    "    for c in col_list[:-1]:\n",
    "        curr_month = curr_month - 1\n",
    "        if curr_month == 0:\n",
    "            curr_year = curr_year - 1\n",
    "            curr_month = 12  \n",
    "        c = str(curr_year) + ' ' + calendar.month_name[curr_month]\n",
    "        new_col.append(c)    \n",
    "    new_col.append('Materials') \n",
    "    new_col.reverse()\n",
    "    df.columns = new_col\n",
    "    \n",
    "    # Outer merge to append the first year's data\n",
    "    if current_year == 2023:\n",
    "        UK_Data_Masterfile = pd.read_csv(download_destination + '/UK Data/UK_Building_Materials_CostIndex_Compiled.csv', index_col=0)\n",
    "        new_df = pd.merge(df, UK_Data_Masterfile, left_index=True, right_index=True, how='outer')\n",
    "        new_df.to_csv(download_destination + '/UK Data/UK_Building_Materials_CostIndex_Compiled.csv')\n",
    "    else:\n",
    "        # Update Masterfile using merge to append new data\n",
    "        # inner merge to append new information, any duplicates will take the suffixes and '_y' is dropped\n",
    "        UK_Data_Masterfile = pd.read_csv(download_destination + '/UK Data/UK_Building_Materials_CostIndex_Compiled.csv', index_col=0)\n",
    "        new_df = pd.merge(df, UK_Data_Masterfile, left_index=True, right_index=True, how='inner', suffixes=('', '_y'))\n",
    "        new_df = new_df.drop(new_df.filter(regex='_y$').columns, axis=1)\n",
    "        new_df.to_csv(download_destination + '/UK Data/UK_Building_Materials_CostIndex_Compiled.csv')\n",
    "    current_year = current_year - 1"
   ]
  },
  {
   "cell_type": "code",
   "execution_count": null,
   "id": "ee4e4a6a",
   "metadata": {},
   "outputs": [],
   "source": [
    "1"
   ]
  },
  {
   "cell_type": "code",
   "execution_count": null,
   "id": "9012deb7",
   "metadata": {},
   "outputs": [],
   "source": []
  },
  {
   "cell_type": "code",
   "execution_count": null,
   "id": "6f2da0a5",
   "metadata": {},
   "outputs": [],
   "source": []
  },
  {
   "cell_type": "code",
   "execution_count": null,
   "id": "3a91333a",
   "metadata": {},
   "outputs": [],
   "source": []
  },
  {
   "cell_type": "code",
   "execution_count": null,
   "id": "35270636",
   "metadata": {},
   "outputs": [],
   "source": []
  },
  {
   "cell_type": "code",
   "execution_count": null,
   "id": "e5e29c3e",
   "metadata": {},
   "outputs": [],
   "source": []
  },
  {
   "cell_type": "code",
   "execution_count": null,
   "id": "706dbddc",
   "metadata": {},
   "outputs": [],
   "source": []
  },
  {
   "cell_type": "code",
   "execution_count": null,
   "id": "24f8ed0c",
   "metadata": {},
   "outputs": [],
   "source": []
  },
  {
   "cell_type": "code",
   "execution_count": null,
   "id": "68b87591",
   "metadata": {},
   "outputs": [],
   "source": []
  },
  {
   "cell_type": "code",
   "execution_count": null,
   "id": "2d17ef10",
   "metadata": {},
   "outputs": [],
   "source": []
  },
  {
   "cell_type": "code",
   "execution_count": null,
   "id": "b9b25d19",
   "metadata": {},
   "outputs": [],
   "source": []
  },
  {
   "cell_type": "code",
   "execution_count": null,
   "id": "82d7313e",
   "metadata": {},
   "outputs": [],
   "source": []
  },
  {
   "cell_type": "code",
   "execution_count": null,
   "id": "a0abdfe9",
   "metadata": {},
   "outputs": [],
   "source": []
  },
  {
   "cell_type": "code",
   "execution_count": null,
   "id": "ea675b08",
   "metadata": {},
   "outputs": [],
   "source": []
  },
  {
   "cell_type": "code",
   "execution_count": null,
   "id": "2001f231",
   "metadata": {},
   "outputs": [],
   "source": []
  },
  {
   "cell_type": "code",
   "execution_count": null,
   "id": "bc45f56a",
   "metadata": {},
   "outputs": [],
   "source": []
  },
  {
   "cell_type": "code",
   "execution_count": null,
   "id": "73058dfc",
   "metadata": {},
   "outputs": [],
   "source": []
  },
  {
   "cell_type": "code",
   "execution_count": null,
   "id": "2a2d68c0",
   "metadata": {},
   "outputs": [],
   "source": []
  },
  {
   "cell_type": "code",
   "execution_count": null,
   "id": "57d2fd2b",
   "metadata": {},
   "outputs": [],
   "source": []
  }
 ],
 "metadata": {
  "kernelspec": {
   "display_name": "Python 3 (ipykernel)",
   "language": "python",
   "name": "python3"
  },
  "language_info": {
   "codemirror_mode": {
    "name": "ipython",
    "version": 3
   },
   "file_extension": ".py",
   "mimetype": "text/x-python",
   "name": "python",
   "nbconvert_exporter": "python",
   "pygments_lexer": "ipython3",
   "version": "3.9.13"
  }
 },
 "nbformat": 4,
 "nbformat_minor": 5
}
